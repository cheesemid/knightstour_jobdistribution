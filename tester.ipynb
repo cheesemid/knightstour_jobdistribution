{
 "cells": [
  {
   "cell_type": "code",
   "execution_count": 1,
   "metadata": {},
   "outputs": [],
   "source": [
    "# Imports for Job Handling\n",
    "import http.client\n",
    "import pickle\n",
    "import time\n",
    "import sshtunnel\n",
    "import signal\n",
    "import sys\n",
    "import threading\n",
    "import os\n",
    "import job\n",
    "import requests\n",
    "import hashlib\n",
    "import paramiko\n",
    "from io import StringIO\n",
    "\n",
    "# Imports for Job Processing\n",
    "import clientjobexec\n",
    "\n",
    "# Debug Bool\n",
    "dodebug = True\n",
    "\n",
    "# SSH TUNNEL CONNECTION VARS\n",
    "hostip = \"jcwcopg.ddns.net\"\n",
    "user = \"tunnel\"\n",
    "port = 55557\n",
    "server_port = 60000\n",
    "local_port = 8000"
   ]
  },
  {
   "cell_type": "code",
   "execution_count": 2,
   "metadata": {
    "scrolled": true
   },
   "outputs": [],
   "source": [
    "try:\n",
    "    tun = sshtunnel.SSHTunnelForwarder(hostip, \n",
    "                                    ssh_username=user,\n",
    "                                    ssh_pkey= \"tkey.pem\",\n",
    "                                    remote_bind_address=(\"localhost\", server_port),\n",
    "                                    local_bind_address=(\"127.0.0.1\", local_port),\n",
    "                                    ssh_port=port)\n",
    "    tun.start()\n",
    "except sshtunnel.paramiko.ChannelException:\n",
    "    print(\"sshtunnel.paramiko.ChannelException\")"
   ]
  },
  {
   "cell_type": "code",
   "execution_count": 228,
   "metadata": {
    "scrolled": false
   },
   "outputs": [
    {
     "name": "stdout",
     "output_type": "stream",
     "text": [
      "Requesting...\n",
      "b'<!DOCTYPE HTML PUBLIC \"-//W3C//DTD HTML 4.01//EN\" \"http://www.w3.org/TR/html4/strict.dtd\">\\n<html>\\n<head>\\n<meta http-equiv=\"Content-Type\" content=\"text/html; charset=utf-8\">\\n<title>Directory listing for /</title>\\n</head>\\n<body>\\n<h1>Directory listing for /</h1>\\n<hr>\\n<ul>\\n<li><a href=\"__pycache__/\">__pycache__/</a></li>\\n<li><a href=\"backend.py\">backend.py</a></li>\\n<li><a href=\"clientinfo/\">clientinfo/</a></li>\\n<li><a href=\"completedjobs/\">completedjobs/</a></li>\\n<li><a href=\"job.py\">job.py</a></li>\\n<li><a href=\"permutation.py\">permutation.py</a></li>\\n<li><a href=\"pjoblist.bin\">pjoblist.bin</a></li>\\n<li><a href=\"server.py\">server.py</a></li>\\n</ul>\\n<hr>\\n</body>\\n</html>\\n'\n"
     ]
    }
   ],
   "source": [
    "print(\"Requesting...\")\n",
    "r = http.client.HTTPConnection('127.0.0.1', local_port)\n",
    "r.request(\"GET\", \"/\")\n",
    "output = r.getresponse().read()\n",
    "r.close()\n",
    "\n",
    "print(output)"
   ]
  },
  {
   "cell_type": "code",
   "execution_count": 229,
   "metadata": {},
   "outputs": [
    {
     "data": {
      "text/plain": [
       "12"
      ]
     },
     "execution_count": 229,
     "metadata": {},
     "output_type": "execute_result"
    }
   ],
   "source": [
    "import multiprocessing\n",
    "\n",
    "multiprocessing.cpu_count()"
   ]
  },
  {
   "cell_type": "code",
   "execution_count": null,
   "metadata": {},
   "outputs": [],
   "source": []
  },
  {
   "cell_type": "code",
   "execution_count": null,
   "metadata": {},
   "outputs": [],
   "source": []
  },
  {
   "cell_type": "code",
   "execution_count": null,
   "metadata": {},
   "outputs": [],
   "source": []
  }
 ],
 "metadata": {
  "kernelspec": {
   "display_name": "Python 3",
   "language": "python",
   "name": "python3"
  },
  "language_info": {
   "codemirror_mode": {
    "name": "ipython",
    "version": 3
   },
   "file_extension": ".py",
   "mimetype": "text/x-python",
   "name": "python",
   "nbconvert_exporter": "python",
   "pygments_lexer": "ipython3",
   "version": "3.7.5"
  }
 },
 "nbformat": 4,
 "nbformat_minor": 4
}
